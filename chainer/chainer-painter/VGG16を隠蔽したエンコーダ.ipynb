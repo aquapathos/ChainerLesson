{
 "cells": [
  {
   "cell_type": "code",
   "execution_count": null,
   "metadata": {
    "collapsed": true
   },
   "outputs": [],
   "source": [
    "# http://snowman-88888.hatenablog.com/entry/2017/04/01/043624\n",
    "\n",
    "from chainer import links as L\n",
    "from chainer import Chain\n",
    "import chainer\n",
    "import chainer.functions as F\n",
    "\n",
    "class MyVCG(Chain):\n",
    "    def __init__(self,n_image):\n",
    "        super(MyVCG, self).__init__(\n",
    "            model = VGG16Layers(),\n",
    "            fc = L.Linear(4096,n_image))\n",
    "\n",
    "    def __call__(self, x):\n",
    "        with chainer.using_config('enable_backprop', True):\n",
    "            h = self.model(x,layers=['fc7'])\n",
    "            h = h['fc7']\n",
    "            return F.tanh(self.fc(h))\n",
    "\n",
    "    def make_optimizer(self):\n",
    "        return optimizers.Adam(alpha=2e-4, beta1=0.5)\n",
    "    \n",
    "    def forward(self, imgs=None, labels=None):\n",
    "        x, t = Variable(imgs), Variable(labels)\n",
    "        h = self(imgs)\n",
    "        h = F.relu(h)\n",
    "        # 交差エントロピー関数を誤差関数とする\n",
    "        print(h,t)\n",
    "        return F.softmax_cross_entropy(h, t), F.accuracy(h, t)"
   ]
  }
 ],
 "metadata": {
  "kernelspec": {
   "display_name": "Python 3",
   "language": "python",
   "name": "python3"
  },
  "language_info": {
   "codemirror_mode": {
    "name": "ipython",
    "version": 3
   },
   "file_extension": ".py",
   "mimetype": "text/x-python",
   "name": "python",
   "nbconvert_exporter": "python",
   "pygments_lexer": "ipython3",
   "version": "3.5.3"
  }
 },
 "nbformat": 4,
 "nbformat_minor": 2
}
