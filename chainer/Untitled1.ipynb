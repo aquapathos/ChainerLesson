{
 "cells": [
  {
   "cell_type": "code",
   "execution_count": null,
   "metadata": {
    "collapsed": true
   },
   "outputs": [],
   "source": [
    "from chainer.links import VGG16Layers\n",
    "from PIL import Image\n",
    "\n",
    "model = VGG16Layers()\n",
    "img = Image.open(\"train.jpg\")\n",
    "feature = model.extract([img], layers=[\"fc7\"])[\"fc7\"]\n",
    "\n",
    "mean = [103.939, 116.779, 123.68]   # BGR\n",
    "#  modelVGG = VGG16Layers()"
   ]
  },
  {
   "cell_type": "code",
   "execution_count": null,
   "metadata": {
    "collapsed": true
   },
   "outputs": [],
   "source": []
  }
 ],
 "metadata": {
  "kernelspec": {
   "display_name": "Python 3",
   "language": "python",
   "name": "python3"
  },
  "language_info": {
   "codemirror_mode": {
    "name": "ipython",
    "version": 3
   },
   "file_extension": ".py",
   "mimetype": "text/x-python",
   "name": "python",
   "nbconvert_exporter": "python",
   "pygments_lexer": "ipython3",
   "version": "3.5.3"
  }
 },
 "nbformat": 4,
 "nbformat_minor": 2
}
